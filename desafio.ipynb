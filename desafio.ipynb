{
 "cells": [
  {
   "cell_type": "markdown",
   "id": "eab66c81",
   "metadata": {},
   "source": [
    "# Resumo do Desafio\n",
    "\n",
    "A Giant Steps começou operar na bolsa de Gotham City e recebe no final do dia o arquivo `gotham_op.txt` disponibilizado pela bolsa da cidade que contém os registros das operações.\n",
    "\n",
    "Este arquivo deverá ser validado e interpretado com o propósito de se obter um resumo das operações do dia e identificar problemas no arquivo.\n",
    "\n",
    "## Minha abordagem ao problema\n",
    "\n",
    "1. Fazer o importe do [Pandas](https://pandas.pydata.org/), a melhor biblioteca para manipulação de uma grande quantidade de dados.\n",
    "2. Tendo em vista que os dados possuem inconsistências na formatação, o próximo passo que tomo é construir uma função que consiga formatar os dados extraidos do arquivo ``gotham_op.txt`` , e ao mesmo tempo extraia os erros durante a formatação.\n",
    "3. Já com o DataFrame construido, posso fazer a soma das compras e vendas de cada ativo sem nenhum empecilho e entregar esses dados classificados por ação em um gráfico e em um arquivo ``gotham_op_RESULTS.txt``\n",
    "##### EXTRA: Criarei também um script para que vcs possam rodar o código fora do Jupyter e receber o resultado direto"
   ]
  },
  {
   "cell_type": "markdown",
   "id": "5fa6801e",
   "metadata": {},
   "source": [
    "## Importes e extração dos dados"
   ]
  },
  {
   "cell_type": "code",
   "execution_count": 166,
   "id": "6a88f2ca",
   "metadata": {},
   "outputs": [],
   "source": [
    "import pandas as pd\n",
    "import numpy as np\n",
    "import matplotlib.pyplot as plt\n",
    "\n",
    "with open('gotham_op.txt') as f:\n",
    "    lines = f.readlines()"
   ]
  },
  {
   "cell_type": "markdown",
   "id": "75c3ecda",
   "metadata": {},
   "source": [
    "## Funções"
   ]
  },
  {
   "cell_type": "markdown",
   "id": "e7ab8859",
   "metadata": {},
   "source": [
    "**Find_errors_and_format:** Função que permite achar os erros de formatação nas informações recebidas e estrutura e prepara os dados em forma de DataFrame. Para uso é necessário passar o parâmetro: \n",
    "* **lines** - Lista onde cada elemento representa uma linha do arquivo recebido\n",
    "\n",
    "**A função retorna dois valores:**\n",
    " * **primeiro:** DataFrame das operações válidas feitas\n",
    " * **segundo:** Dicionário de operações mal formatadas onde a key é o tipo de erro de formatação e o value é uma lista com as linhas no arquivo que apresemtam erros.\n",
    " \n",
    " ###### OBS: Fiz uma mudança no valor da variável SIDE pois deixar em um valor numérico de ``1`` para compra e ``-1`` para venda iria facilitar na hora de fazer os cálculos na função seguinte"
   ]
  },
  {
   "cell_type": "code",
   "execution_count": 134,
   "id": "91dc0423",
   "metadata": {},
   "outputs": [],
   "source": [
    "def find_errors_and_format(lines):\n",
    "    bad_format = {\"SIDE\": [], \"QTY_INV\": [], \"QTY_NEG\": [], \"TICKER\": []}\n",
    "    dic = {}\n",
    "    #Loop para pegar as linas do arquivo\n",
    "    for i in range(len(lines)):\n",
    "        line_dic = {}\n",
    "        valid = True;\n",
    "        line_broked = lines[i][:-1].split(\";\")\n",
    "        #Loop para pegar os atributos das linas que foram separados por ``;``\n",
    "        for attribute in line_broked:\n",
    "            #Verificação da formatação dos SIDES\n",
    "            if \"SIDE\" in attribute:\n",
    "                #Se é BUY ou SELL aceita o SIDE como validado e atribui -1 quando é SELL e 1 quando é BUY\n",
    "                if \"BUY\" in attribute:\n",
    "                    line_dic[\"SIDE\"] = 1\n",
    "                elif \"SELL\" in attribute:\n",
    "                    line_dic[\"SIDE\"] = -1\n",
    "                else:\n",
    "                    valid = False;\n",
    "                    bad_format[\"SIDE\"].append(i+1)\n",
    "            #Verificação da formatação das QTYS\n",
    "            if \"QTY\" in attribute:\n",
    "                #Analisando se o QTY tem números atribuidos e se são válidos\n",
    "                if attribute[4:].isdecimal() and int(attribute[4:])>0 and int(attribute[4:])%10==0:\n",
    "                    line_dic[\"QTY\"] = int(attribute[4:])\n",
    "                #Verifica se o problema foi o fato dos números não serem válidos\n",
    "                elif attribute[4:].isdecimal():\n",
    "                    valid = False;\n",
    "                    bad_format[\"QTY_NEG\"].append(i+1)\n",
    "                #Ou se o valor atribuido não é um número\n",
    "                else:\n",
    "                    valid = False;\n",
    "                    bad_format[\"QTY_INV\"].append(i+1)\n",
    "            #Verificação da formatação dos TICKERS\n",
    "            if \"TICKER\" in attribute:\n",
    "                #Verifica se a formatação respeita o padrão 4 letras + 1 algarismo\n",
    "                if len(attribute)==12 and attribute[-1:].isdecimal() and not attribute[-2:].isdecimal():\n",
    "                    line_dic[\"TICKER\"] = attribute[7:]\n",
    "                else:\n",
    "                    valid = False;\n",
    "                    bad_format[\"TICKER\"].append(i+1)\n",
    "        #Verifíca se algum dos campos recebeu um erro\n",
    "        if valid:\n",
    "            dic[i] = line_dic\n",
    "    #Converte o dicionário em DataFrame ao designar o Value de cada Key no dicionário para uma row do DataFrame\n",
    "    df = pd.DataFrame([v for k, v in dic.items()], columns=['SIDE', 'QTY', 'TICKER'])\n",
    "    return df, bad_format"
   ]
  },
  {
   "cell_type": "markdown",
   "id": "7cb397d7",
   "metadata": {},
   "source": [
    "**Sum_tickers_and_create_result:** Multiplica a quantidade de TICKERS operacionados pelo fator SIDE que agora é -1 para vendas e 1 para compras, depois soma todas as operações de mesmo TICKER. Para uso é necessário passar o parâmetro: \n",
    "* **df** - DataFrame contendo as informações do arquivo formatadas pela função ``find_errors_and_format``\n",
    "\n",
    "**A função retorna um valor:**\n",
    " * **primeiro:** DataFrame de Tickers por QTY e SIDE_RESULT\n",
    " ###### SIDE_RESULT: Representa qual foi o tipo de operação mais feita para uma ação e quantas vezes mais ela foi efetuada. \n",
    " ```\n",
    "Exemplo: SIDE_RESULT -3  --> por ser negativo essa ação teve 3 vendas a mais que compras\n",
    "```"
   ]
  },
  {
   "cell_type": "code",
   "execution_count": 154,
   "id": "09233f6c",
   "metadata": {},
   "outputs": [],
   "source": [
    "def sum_tickers_and_create_result(df):\n",
    "    df.QTY = df.SIDE*df.QTY\n",
    "    df2 = df.groupby(['TICKER']).sum()\n",
    "    df2.rename(columns={'SIDE': 'SIDE_RESULT'}, inplace = True)\n",
    "    return df2"
   ]
  },
  {
   "cell_type": "markdown",
   "id": "6b70357b",
   "metadata": {},
   "source": [
    "## Executando as funções e salvando resultados em um txt"
   ]
  },
  {
   "cell_type": "code",
   "execution_count": 159,
   "id": "9266e667",
   "metadata": {},
   "outputs": [
    {
     "data": {
      "text/html": [
       "<div>\n",
       "<style scoped>\n",
       "    .dataframe tbody tr th:only-of-type {\n",
       "        vertical-align: middle;\n",
       "    }\n",
       "\n",
       "    .dataframe tbody tr th {\n",
       "        vertical-align: top;\n",
       "    }\n",
       "\n",
       "    .dataframe thead th {\n",
       "        text-align: right;\n",
       "    }\n",
       "</style>\n",
       "<table border=\"1\" class=\"dataframe\">\n",
       "  <thead>\n",
       "    <tr style=\"text-align: right;\">\n",
       "      <th></th>\n",
       "      <th>SIDE_RESULT</th>\n",
       "      <th>QTY</th>\n",
       "    </tr>\n",
       "    <tr>\n",
       "      <th>TICKER</th>\n",
       "      <th></th>\n",
       "      <th></th>\n",
       "    </tr>\n",
       "  </thead>\n",
       "  <tbody>\n",
       "    <tr>\n",
       "      <th>ACEC4</th>\n",
       "      <td>3</td>\n",
       "      <td>480</td>\n",
       "    </tr>\n",
       "    <tr>\n",
       "      <th>LEXC0</th>\n",
       "      <td>2</td>\n",
       "      <td>4900</td>\n",
       "    </tr>\n",
       "    <tr>\n",
       "      <th>PALM9</th>\n",
       "      <td>2</td>\n",
       "      <td>600</td>\n",
       "    </tr>\n",
       "    <tr>\n",
       "      <th>WAYN3</th>\n",
       "      <td>-1</td>\n",
       "      <td>4320</td>\n",
       "    </tr>\n",
       "  </tbody>\n",
       "</table>\n",
       "</div>"
      ],
      "text/plain": [
       "        SIDE_RESULT   QTY\n",
       "TICKER                   \n",
       "ACEC4             3   480\n",
       "LEXC0             2  4900\n",
       "PALM9             2   600\n",
       "WAYN3            -1  4320"
      ]
     },
     "execution_count": 159,
     "metadata": {},
     "output_type": "execute_result"
    }
   ],
   "source": [
    "df,dic_errors = find_errors_and_format(lines)\n",
    "df = sum_tickers_and_create_result(df)\n",
    "df"
   ]
  },
  {
   "cell_type": "code",
   "execution_count": 164,
   "id": "96c0d64a",
   "metadata": {},
   "outputs": [],
   "source": [
    "open('results.txt', 'w').close()\n",
    "df.to_csv(r'results.txt', sep=';', mode='a')"
   ]
  },
  {
   "cell_type": "markdown",
   "id": "402d8144",
   "metadata": {},
   "source": [
    "## Gráfico da quantidade de operações por ação"
   ]
  },
  {
   "cell_type": "code",
   "execution_count": 175,
   "id": "1cb87021",
   "metadata": {},
   "outputs": [
    {
     "data": {
      "image/png": "[encoded data removed]",
      "text/plain": [
       "<Figure size 432x288 with 1 Axes>"
      ]
     },
     "metadata": {
      "needs_background": "light"
     },
     "output_type": "display_data"
    }
   ],
   "source": [
    "df_plt = pd.DataFrame(df[\"QTY\"])\n",
    "df_plt.plot(kind = 'bar', stacked=True)\n",
    "plt.show()"
   ]
  },
  {
   "cell_type": "code",
   "execution_count": null,
   "id": "98b05c5c",
   "metadata": {},
   "outputs": [],
   "source": []
  },
  {
   "cell_type": "code",
   "execution_count": null,
   "id": "794d4ff3",
   "metadata": {},
   "outputs": [],
   "source": []
  },
  {
   "cell_type": "code",
   "execution_count": null,
   "id": "1fc9071f",
   "metadata": {},
   "outputs": [],
   "source": []
  }
 ],
 "metadata": {
  "kernelspec": {
   "display_name": "Python 3",
   "language": "python",
   "name": "python3"
  },
  "language_info": {
   "codemirror_mode": {
    "name": "ipython",
    "version": 3
   },
   "file_extension": ".py",
   "mimetype": "text/x-python",
   "name": "python",
   "nbconvert_exporter": "python",
   "pygments_lexer": "ipython3",
   "version": "3.8.5"
  }
 },
 "nbformat": 4,
 "nbformat_minor": 5
}
